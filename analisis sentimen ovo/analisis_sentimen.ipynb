{
 "cells": [
  {
   "cell_type": "code",
   "execution_count": 1,
   "id": "44ea6d3d-ca9a-4b01-9a75-a6bb80d789dc",
   "metadata": {},
   "outputs": [],
   "source": [
    "import pandas as pd\n",
    "import csv\n",
    "import re\n",
    "import matplotlib.pyplot as plt\n",
    "import nltk\n",
    "import requests\n",
    "from Sastrawi.Stemmer.StemmerFactory import StemmerFactory\n",
    "import string\n",
    "from io import StringIO\n",
    "from nltk.tokenize import word_tokenize\n",
    "from nltk.corpus import stopwords\n",
    "from sklearn.feature_extraction.text import TfidfVectorizer\n",
    "from sklearn.model_selection import train_test_split\n",
    "from sklearn.linear_model import LogisticRegression\n",
    "from sklearn.metrics import accuracy_score\n",
    "from sklearn.model_selection import cross_val_score\n",
    "from sklearn.metrics import confusion_matrix, classification_report"
   ]
  },
  {
   "cell_type": "code",
   "execution_count": 2,
   "id": "174fa8bb-7d04-4aef-ab97-8801a1f8a39b",
   "metadata": {},
   "outputs": [
    {
     "name": "stderr",
     "output_type": "stream",
     "text": [
      "[nltk_data] Downloading package punkt_tab to\n",
      "[nltk_data]     C:\\Users\\USER\\AppData\\Roaming\\nltk_data...\n",
      "[nltk_data]   Package punkt_tab is already up-to-date!\n"
     ]
    },
    {
     "data": {
      "text/plain": [
       "True"
      ]
     },
     "execution_count": 2,
     "metadata": {},
     "output_type": "execute_result"
    }
   ],
   "source": [
    "nltk.download('punkt_tab')"
   ]
  },
  {
   "cell_type": "code",
   "execution_count": 3,
   "id": "a02cb423-ad27-44b0-9eb2-8826c0631b90",
   "metadata": {},
   "outputs": [],
   "source": [
    "df = pd.read_csv('ulasan_aplikasi.csv')"
   ]
  },
  {
   "cell_type": "code",
   "execution_count": 4,
   "id": "7f632f3c-6490-4501-beeb-27b1cd29a651",
   "metadata": {},
   "outputs": [
    {
     "data": {
      "text/html": [
       "<div>\n",
       "<style scoped>\n",
       "    .dataframe tbody tr th:only-of-type {\n",
       "        vertical-align: middle;\n",
       "    }\n",
       "\n",
       "    .dataframe tbody tr th {\n",
       "        vertical-align: top;\n",
       "    }\n",
       "\n",
       "    .dataframe thead th {\n",
       "        text-align: right;\n",
       "    }\n",
       "</style>\n",
       "<table border=\"1\" class=\"dataframe\">\n",
       "  <thead>\n",
       "    <tr style=\"text-align: right;\">\n",
       "      <th></th>\n",
       "      <th>reviewId</th>\n",
       "      <th>userName</th>\n",
       "      <th>userImage</th>\n",
       "      <th>content</th>\n",
       "      <th>score</th>\n",
       "      <th>thumbsUpCount</th>\n",
       "      <th>reviewCreatedVersion</th>\n",
       "      <th>at</th>\n",
       "      <th>replyContent</th>\n",
       "      <th>repliedAt</th>\n",
       "      <th>appVersion</th>\n",
       "    </tr>\n",
       "  </thead>\n",
       "  <tbody>\n",
       "    <tr>\n",
       "      <th>0</th>\n",
       "      <td>e368ea8c-bf99-4c1f-939e-558de91c020d</td>\n",
       "      <td>Pengguna Google</td>\n",
       "      <td>https://play-lh.googleusercontent.com/EGemoI2N...</td>\n",
       "      <td>Apa si?, mau tf ke bank aja gk bisa, slalu ter...</td>\n",
       "      <td>1</td>\n",
       "      <td>4</td>\n",
       "      <td>3.126.0</td>\n",
       "      <td>2025-02-04 08:40:42</td>\n",
       "      <td>NaN</td>\n",
       "      <td>NaN</td>\n",
       "      <td>3.126.0</td>\n",
       "    </tr>\n",
       "    <tr>\n",
       "      <th>1</th>\n",
       "      <td>21b6b6a3-46c2-4d05-92c0-26e416bf3698</td>\n",
       "      <td>Pengguna Google</td>\n",
       "      <td>https://play-lh.googleusercontent.com/EGemoI2N...</td>\n",
       "      <td>Aplikasi nggak jelas, udah transfer bukti tran...</td>\n",
       "      <td>1</td>\n",
       "      <td>1</td>\n",
       "      <td>3.126.0</td>\n",
       "      <td>2025-02-04 19:44:49</td>\n",
       "      <td>NaN</td>\n",
       "      <td>NaN</td>\n",
       "      <td>3.126.0</td>\n",
       "    </tr>\n",
       "    <tr>\n",
       "      <th>2</th>\n",
       "      <td>f74aaa25-a19b-46af-b72e-d76396ddbd70</td>\n",
       "      <td>Pengguna Google</td>\n",
       "      <td>https://play-lh.googleusercontent.com/EGemoI2N...</td>\n",
       "      <td>Top up E-money 50ribu dengan nomer kartu gilir...</td>\n",
       "      <td>1</td>\n",
       "      <td>54</td>\n",
       "      <td>3.126.0</td>\n",
       "      <td>2025-02-01 15:38:40</td>\n",
       "      <td>NaN</td>\n",
       "      <td>NaN</td>\n",
       "      <td>3.126.0</td>\n",
       "    </tr>\n",
       "    <tr>\n",
       "      <th>3</th>\n",
       "      <td>6304b5bb-bc8b-41ee-b47a-5a2d63cf8292</td>\n",
       "      <td>Pengguna Google</td>\n",
       "      <td>https://play-lh.googleusercontent.com/EGemoI2N...</td>\n",
       "      <td>Sangat mengecewakan, pengiriman lambat, potong...</td>\n",
       "      <td>1</td>\n",
       "      <td>459</td>\n",
       "      <td>3.123.0</td>\n",
       "      <td>2024-12-16 00:20:17</td>\n",
       "      <td>NaN</td>\n",
       "      <td>NaN</td>\n",
       "      <td>3.123.0</td>\n",
       "    </tr>\n",
       "    <tr>\n",
       "      <th>4</th>\n",
       "      <td>ff5e412d-53e8-465c-b607-d92c20250c8b</td>\n",
       "      <td>Pengguna Google</td>\n",
       "      <td>https://play-lh.googleusercontent.com/EGemoI2N...</td>\n",
       "      <td>Aplikasi paling gak jelas, biaya segala macemn...</td>\n",
       "      <td>1</td>\n",
       "      <td>92</td>\n",
       "      <td>3.124.0</td>\n",
       "      <td>2025-01-15 09:10:09</td>\n",
       "      <td>NaN</td>\n",
       "      <td>NaN</td>\n",
       "      <td>3.124.0</td>\n",
       "    </tr>\n",
       "  </tbody>\n",
       "</table>\n",
       "</div>"
      ],
      "text/plain": [
       "                               reviewId         userName  \\\n",
       "0  e368ea8c-bf99-4c1f-939e-558de91c020d  Pengguna Google   \n",
       "1  21b6b6a3-46c2-4d05-92c0-26e416bf3698  Pengguna Google   \n",
       "2  f74aaa25-a19b-46af-b72e-d76396ddbd70  Pengguna Google   \n",
       "3  6304b5bb-bc8b-41ee-b47a-5a2d63cf8292  Pengguna Google   \n",
       "4  ff5e412d-53e8-465c-b607-d92c20250c8b  Pengguna Google   \n",
       "\n",
       "                                           userImage  \\\n",
       "0  https://play-lh.googleusercontent.com/EGemoI2N...   \n",
       "1  https://play-lh.googleusercontent.com/EGemoI2N...   \n",
       "2  https://play-lh.googleusercontent.com/EGemoI2N...   \n",
       "3  https://play-lh.googleusercontent.com/EGemoI2N...   \n",
       "4  https://play-lh.googleusercontent.com/EGemoI2N...   \n",
       "\n",
       "                                             content  score  thumbsUpCount  \\\n",
       "0  Apa si?, mau tf ke bank aja gk bisa, slalu ter...      1              4   \n",
       "1  Aplikasi nggak jelas, udah transfer bukti tran...      1              1   \n",
       "2  Top up E-money 50ribu dengan nomer kartu gilir...      1             54   \n",
       "3  Sangat mengecewakan, pengiriman lambat, potong...      1            459   \n",
       "4  Aplikasi paling gak jelas, biaya segala macemn...      1             92   \n",
       "\n",
       "  reviewCreatedVersion                   at replyContent repliedAt appVersion  \n",
       "0              3.126.0  2025-02-04 08:40:42          NaN       NaN    3.126.0  \n",
       "1              3.126.0  2025-02-04 19:44:49          NaN       NaN    3.126.0  \n",
       "2              3.126.0  2025-02-01 15:38:40          NaN       NaN    3.126.0  \n",
       "3              3.123.0  2024-12-16 00:20:17          NaN       NaN    3.123.0  \n",
       "4              3.124.0  2025-01-15 09:10:09          NaN       NaN    3.124.0  "
      ]
     },
     "execution_count": 4,
     "metadata": {},
     "output_type": "execute_result"
    }
   ],
   "source": [
    "df.head()"
   ]
  },
  {
   "cell_type": "code",
   "execution_count": 5,
   "id": "02400d22-4f7d-47b0-9d39-251c1b91e407",
   "metadata": {},
   "outputs": [
    {
     "name": "stdout",
     "output_type": "stream",
     "text": [
      "<class 'pandas.core.frame.DataFrame'>\n",
      "RangeIndex: 202500 entries, 0 to 202499\n",
      "Data columns (total 11 columns):\n",
      " #   Column                Non-Null Count   Dtype \n",
      "---  ------                --------------   ----- \n",
      " 0   reviewId              202500 non-null  object\n",
      " 1   userName              202500 non-null  object\n",
      " 2   userImage             202500 non-null  object\n",
      " 3   content               202499 non-null  object\n",
      " 4   score                 202500 non-null  int64 \n",
      " 5   thumbsUpCount         202500 non-null  int64 \n",
      " 6   reviewCreatedVersion  157325 non-null  object\n",
      " 7   at                    202500 non-null  object\n",
      " 8   replyContent          120740 non-null  object\n",
      " 9   repliedAt             120740 non-null  object\n",
      " 10  appVersion            157325 non-null  object\n",
      "dtypes: int64(2), object(9)\n",
      "memory usage: 17.0+ MB\n"
     ]
    }
   ],
   "source": [
    "df.info()"
   ]
  },
  {
   "cell_type": "code",
   "execution_count": 6,
   "id": "8749d016-408e-49fe-b733-be8cd885afa8",
   "metadata": {},
   "outputs": [
    {
     "data": {
      "text/plain": [
       "(202500, 11)"
      ]
     },
     "execution_count": 6,
     "metadata": {},
     "output_type": "execute_result"
    }
   ],
   "source": [
    "df.shape"
   ]
  },
  {
   "cell_type": "code",
   "execution_count": 7,
   "id": "72e60483-9d74-4e02-91ab-c4d9e0799a3e",
   "metadata": {},
   "outputs": [],
   "source": [
    "data = df.dropna()"
   ]
  },
  {
   "cell_type": "code",
   "execution_count": 8,
   "id": "07c0ca23-3c24-44be-b325-13116a639403",
   "metadata": {},
   "outputs": [],
   "source": [
    "data = data.drop_duplicates()"
   ]
  },
  {
   "cell_type": "code",
   "execution_count": 9,
   "id": "b7151109-3c5e-4725-8569-f6b53e4995ab",
   "metadata": {},
   "outputs": [
    {
     "data": {
      "text/plain": [
       "(92601, 11)"
      ]
     },
     "execution_count": 9,
     "metadata": {},
     "output_type": "execute_result"
    }
   ],
   "source": [
    "data.shape"
   ]
  },
  {
   "cell_type": "code",
   "execution_count": 10,
   "id": "b3ae798d-0318-4d17-a26a-b53140c00b63",
   "metadata": {},
   "outputs": [],
   "source": [
    "def cleaningText(text):\n",
    "    text = re.sub(r'@[A-Za-z0-9]+', '', text)\n",
    "    text = re.sub(r'#[A-Za-z0-9]+', '', text)\n",
    "    text = re.sub(r'RT[\\s]', '', text)\n",
    "    text = re.sub(r\"http\\S+\", '', text)\n",
    "    text = re.sub(r'[0-9]+', '', text)\n",
    "    text = re.sub(r'[^\\w\\s]', '', text)\n",
    "\n",
    "    text = text.replace('\\n', ' ')\n",
    "    text = text.translate(str.maketrans('', '', string.punctuation))\n",
    "    text = text.strip(' ')\n",
    "    return text"
   ]
  },
  {
   "cell_type": "code",
   "execution_count": 11,
   "id": "4edf407c-98e1-4730-88a5-7ab16ce772da",
   "metadata": {},
   "outputs": [],
   "source": [
    "def casefoldingText(text):\n",
    "    text = text.lower()\n",
    "    return text"
   ]
  },
  {
   "cell_type": "code",
   "execution_count": 12,
   "id": "ce9b61c6-15bb-4c1b-a980-4dee102b4a5d",
   "metadata": {},
   "outputs": [],
   "source": [
    "def tokenizingText(text):\n",
    "    text = word_tokenize(text)\n",
    "    return text"
   ]
  },
  {
   "cell_type": "code",
   "execution_count": 13,
   "id": "2769cc99-7dbb-4a47-b014-0c64d94c3d25",
   "metadata": {},
   "outputs": [],
   "source": [
    "def filteringText(text):\n",
    "    listStopwords = set(stopwords.words('indonesian'))\n",
    "    listStopwords1 = set(stopwords.words('english'))\n",
    "    listStopwords.update(listStopwords1)\n",
    "    listStopwords.update(['iya','yaa','gak','nya','na','sih','ku',\"di\",\"ga\",\"ya\",\"gaa\",\"loh\",\"kah\",\"woi\",\"woii\",\"woy\",\"lha\",\"yoi\"])\n",
    "    filtered = []\n",
    "    for txt in text:\n",
    "        if txt not in listStopwords:\n",
    "            filtered.append(txt)\n",
    "    text = filtered\n",
    "    return text"
   ]
  },
  {
   "cell_type": "code",
   "execution_count": 14,
   "id": "03fc41da-0092-4823-a1d4-8b6fad1c3921",
   "metadata": {},
   "outputs": [],
   "source": [
    "def stemmingText(text):\n",
    "    factory = StemmerFactory()\n",
    "    stemmer = factory.create_stemmer()\n",
    "\n",
    "    words = text.split()\n",
    "\n",
    "    stemmed_words = [stemmer.stem(word) for word in words]\n",
    "\n",
    "    stemmed_text = ' '.join(stemmed_words)\n",
    "\n",
    "    return stemmed_text"
   ]
  },
  {
   "cell_type": "code",
   "execution_count": 15,
   "id": "875c9ef8-78b3-4881-b78b-23996396f652",
   "metadata": {},
   "outputs": [],
   "source": [
    "def toSentence(list_words):\n",
    "    sentence = ' '.join(word for word in list_words)\n",
    "    return sentence"
   ]
  },
  {
   "cell_type": "code",
   "execution_count": 16,
   "id": "cd9900ff-94f1-47a6-9661-5bf4a3e25266",
   "metadata": {},
   "outputs": [],
   "source": [
    "slangwords = {\"@\": \"di\", \"abis\": \"habis\", \"wtb\": \"beli\", \"masi\": \"masih\", \"wts\": \"jual\", \"wtt\": \"tukar\", \"bgt\": \"banget\", \"maks\": \"maksimal\", \"jlk\": \"jelek\"}\n",
    "def fix_slangwords(text):\n",
    "    words = text.split()\n",
    "    fixed_words = []\n",
    "\n",
    "    for word in words:\n",
    "        if word.lower() in slangwords:\n",
    "            fixed_words.append(slangwords[word.lower()])\n",
    "        else:\n",
    "            fixed_words.append(word)\n",
    "\n",
    "    fixed_text = ' '.join(fixed_words)\n",
    "    return fixed_text"
   ]
  },
  {
   "cell_type": "code",
   "execution_count": 17,
   "id": "716e2106-278f-4296-858f-b308b87a7421",
   "metadata": {},
   "outputs": [],
   "source": [
    "data['text_clean'] = data['content'].apply(cleaningText)"
   ]
  },
  {
   "cell_type": "code",
   "execution_count": 18,
   "id": "86bd25e6-9f06-40b5-bcaa-14ef69d51220",
   "metadata": {},
   "outputs": [],
   "source": [
    "data['text_casefoldingText'] = data['text_clean'].apply(casefoldingText)"
   ]
  },
  {
   "cell_type": "code",
   "execution_count": 19,
   "id": "937ebb3a-17bd-4bf9-b7b2-c63298b63097",
   "metadata": {},
   "outputs": [],
   "source": [
    "data['text_slangwords'] = data['text_casefoldingText'].apply(fix_slangwords)"
   ]
  },
  {
   "cell_type": "code",
   "execution_count": 20,
   "id": "bc6e4383-831e-47ae-bb25-86e7e239e8c6",
   "metadata": {},
   "outputs": [],
   "source": [
    "data['text_tokenizingText'] = data['text_slangwords'].apply(tokenizingText)"
   ]
  },
  {
   "cell_type": "code",
   "execution_count": 21,
   "id": "87c94909-5f1e-47dd-956a-e4000f35c98b",
   "metadata": {},
   "outputs": [],
   "source": [
    "data['text_stopword'] = data['text_tokenizingText'].apply(filteringText)"
   ]
  },
  {
   "cell_type": "code",
   "execution_count": 22,
   "id": "4f53cfb3-6e1b-449b-b416-4dfc379e2b56",
   "metadata": {},
   "outputs": [],
   "source": [
    "data['text_akhir'] = data['text_stopword'].apply(toSentence)"
   ]
  },
  {
   "cell_type": "code",
   "execution_count": 23,
   "id": "52a7b661-a7be-4f15-aa98-3d103ab53906",
   "metadata": {},
   "outputs": [],
   "source": [
    "lexicon_positive = dict()\n",
    "\n",
    "response = requests.get('https://raw.githubusercontent.com/angelmetanosaa/dataset/main/lexicon_positive.csv')\n",
    "if response.status_code == 200:\n",
    "    reader = csv.reader(StringIO(response.text), delimiter=',')\n",
    "    for row in reader:\n",
    "        # Mengulangi setiap baris dalam file CSV\n",
    "        lexicon_positive[row[0]] = int(row[1])\n",
    "\n",
    "else:\n",
    "    print(\"Failed to fetch positive lexicon data\")"
   ]
  },
  {
   "cell_type": "code",
   "execution_count": 24,
   "id": "2763ee50-498b-433a-9fac-c00bf2adfdc2",
   "metadata": {},
   "outputs": [],
   "source": [
    "lexicon_negative = dict()\n",
    "\n",
    "response = requests.get('https://raw.githubusercontent.com/angelmetanosaa/dataset/main/lexicon_negative.csv')\n",
    "if response.status_code == 200:\n",
    "    reader = csv.reader(StringIO(response.text), delimiter=',')\n",
    "\n",
    "    for row in reader:\n",
    "        lexicon_negative[row[0]] = int(row[1])\n",
    "\n",
    "else:\n",
    "    print(\"Failed to fetch negative lexicon data\")"
   ]
  },
  {
   "cell_type": "code",
   "execution_count": 25,
   "id": "57a6241c-8d03-4f66-b0e8-723138d31300",
   "metadata": {},
   "outputs": [],
   "source": [
    "def sentiment_analysis_lexicon_indonesia(text):\n",
    "    score = 0\n",
    "    for word in text:\n",
    "        if (word in lexicon_positive):\n",
    "            score = score + lexicon_positive[word]\n",
    "\n",
    "    for word in text:\n",
    "        if (word in lexicon_negative):\n",
    "            score = score + lexicon_negative[word]\n",
    "\n",
    "    polarity=''\n",
    "\n",
    "    if (score >= 0):\n",
    "        polarity = 'positive'\n",
    "    elif (score < 0):\n",
    "        polarity = 'negative'\n",
    "\n",
    "    return score, polarity"
   ]
  },
  {
   "cell_type": "code",
   "execution_count": 26,
   "id": "d054d6f7-f8e4-428e-8b79-a53b7962e5fc",
   "metadata": {},
   "outputs": [
    {
     "name": "stdout",
     "output_type": "stream",
     "text": [
      "polarity\n",
      "negative    50394\n",
      "positive    42207\n",
      "Name: count, dtype: int64\n"
     ]
    }
   ],
   "source": [
    "results = data['text_stopword'].apply(sentiment_analysis_lexicon_indonesia)\n",
    "results = list(zip(*results))\n",
    "data['polarity_score'] = results[0]\n",
    "data['polarity'] = results[1]\n",
    "print(data['polarity'].value_counts())"
   ]
  },
  {
   "cell_type": "code",
   "execution_count": 27,
   "id": "f0b1d355-e572-4288-992b-e49ebc25f48a",
   "metadata": {},
   "outputs": [],
   "source": [
    "X = data['text_akhir']\n",
    "y = data['polarity']"
   ]
  },
  {
   "cell_type": "code",
   "execution_count": 28,
   "id": "257dda2f-2e3c-427a-981b-db1c417e9655",
   "metadata": {},
   "outputs": [],
   "source": [
    "tfidf = TfidfVectorizer(max_features=200, min_df=17, max_df=0.8 )\n",
    "X_tfidf = tfidf.fit_transform(X)"
   ]
  },
  {
   "cell_type": "code",
   "execution_count": 29,
   "id": "829b6bd0-40e0-4e8c-9096-7859b73f2b6c",
   "metadata": {},
   "outputs": [],
   "source": [
    "ekstraksi_df = pd.DataFrame(X_tfidf.toarray(), columns=tfidf.get_feature_names_out())"
   ]
  },
  {
   "cell_type": "code",
   "execution_count": 30,
   "id": "c781dbf7-0570-4c8c-abc5-6db9eceaddab",
   "metadata": {},
   "outputs": [
    {
     "data": {
      "text/html": [
       "<div>\n",
       "<style scoped>\n",
       "    .dataframe tbody tr th:only-of-type {\n",
       "        vertical-align: middle;\n",
       "    }\n",
       "\n",
       "    .dataframe tbody tr th {\n",
       "        vertical-align: top;\n",
       "    }\n",
       "\n",
       "    .dataframe thead th {\n",
       "        text-align: right;\n",
       "    }\n",
       "</style>\n",
       "<table border=\"1\" class=\"dataframe\">\n",
       "  <thead>\n",
       "    <tr style=\"text-align: right;\">\n",
       "      <th></th>\n",
       "      <th>admin</th>\n",
       "      <th>aja</th>\n",
       "      <th>akun</th>\n",
       "      <th>alfamart</th>\n",
       "      <th>aneh</th>\n",
       "      <th>apk</th>\n",
       "      <th>aplikasi</th>\n",
       "      <th>aplikasinya</th>\n",
       "      <th>app</th>\n",
       "      <th>bagus</th>\n",
       "      <th>...</th>\n",
       "      <th>udah</th>\n",
       "      <th>udh</th>\n",
       "      <th>ulang</th>\n",
       "      <th>uninstall</th>\n",
       "      <th>update</th>\n",
       "      <th>upgrade</th>\n",
       "      <th>utk</th>\n",
       "      <th>verifikasi</th>\n",
       "      <th>via</th>\n",
       "      <th>yg</th>\n",
       "    </tr>\n",
       "  </thead>\n",
       "  <tbody>\n",
       "    <tr>\n",
       "      <th>0</th>\n",
       "      <td>0.000000</td>\n",
       "      <td>0.000000</td>\n",
       "      <td>0.0</td>\n",
       "      <td>0.0</td>\n",
       "      <td>0.0</td>\n",
       "      <td>0.000000</td>\n",
       "      <td>0.000000</td>\n",
       "      <td>0.0</td>\n",
       "      <td>0.000000</td>\n",
       "      <td>0.000000</td>\n",
       "      <td>...</td>\n",
       "      <td>0.000000</td>\n",
       "      <td>0.0</td>\n",
       "      <td>0.0</td>\n",
       "      <td>0.0</td>\n",
       "      <td>0.408869</td>\n",
       "      <td>0.0</td>\n",
       "      <td>0.0</td>\n",
       "      <td>0.0</td>\n",
       "      <td>0.0</td>\n",
       "      <td>0.000000</td>\n",
       "    </tr>\n",
       "    <tr>\n",
       "      <th>1</th>\n",
       "      <td>0.139477</td>\n",
       "      <td>0.188586</td>\n",
       "      <td>0.0</td>\n",
       "      <td>0.0</td>\n",
       "      <td>0.0</td>\n",
       "      <td>0.708790</td>\n",
       "      <td>0.000000</td>\n",
       "      <td>0.0</td>\n",
       "      <td>0.000000</td>\n",
       "      <td>0.000000</td>\n",
       "      <td>...</td>\n",
       "      <td>0.000000</td>\n",
       "      <td>0.0</td>\n",
       "      <td>0.0</td>\n",
       "      <td>0.0</td>\n",
       "      <td>0.000000</td>\n",
       "      <td>0.0</td>\n",
       "      <td>0.0</td>\n",
       "      <td>0.0</td>\n",
       "      <td>0.0</td>\n",
       "      <td>0.198053</td>\n",
       "    </tr>\n",
       "    <tr>\n",
       "      <th>2</th>\n",
       "      <td>0.000000</td>\n",
       "      <td>0.000000</td>\n",
       "      <td>0.0</td>\n",
       "      <td>0.0</td>\n",
       "      <td>0.0</td>\n",
       "      <td>0.000000</td>\n",
       "      <td>0.530947</td>\n",
       "      <td>0.0</td>\n",
       "      <td>0.000000</td>\n",
       "      <td>0.272698</td>\n",
       "      <td>...</td>\n",
       "      <td>0.000000</td>\n",
       "      <td>0.0</td>\n",
       "      <td>0.0</td>\n",
       "      <td>0.0</td>\n",
       "      <td>0.000000</td>\n",
       "      <td>0.0</td>\n",
       "      <td>0.0</td>\n",
       "      <td>0.0</td>\n",
       "      <td>0.0</td>\n",
       "      <td>0.000000</td>\n",
       "    </tr>\n",
       "    <tr>\n",
       "      <th>3</th>\n",
       "      <td>0.000000</td>\n",
       "      <td>0.000000</td>\n",
       "      <td>0.0</td>\n",
       "      <td>0.0</td>\n",
       "      <td>0.0</td>\n",
       "      <td>0.463699</td>\n",
       "      <td>0.161038</td>\n",
       "      <td>0.0</td>\n",
       "      <td>0.000000</td>\n",
       "      <td>0.000000</td>\n",
       "      <td>...</td>\n",
       "      <td>0.000000</td>\n",
       "      <td>0.0</td>\n",
       "      <td>0.0</td>\n",
       "      <td>0.0</td>\n",
       "      <td>0.000000</td>\n",
       "      <td>0.0</td>\n",
       "      <td>0.0</td>\n",
       "      <td>0.0</td>\n",
       "      <td>0.0</td>\n",
       "      <td>0.194353</td>\n",
       "    </tr>\n",
       "    <tr>\n",
       "      <th>4</th>\n",
       "      <td>0.000000</td>\n",
       "      <td>0.241181</td>\n",
       "      <td>0.0</td>\n",
       "      <td>0.0</td>\n",
       "      <td>0.0</td>\n",
       "      <td>0.000000</td>\n",
       "      <td>0.000000</td>\n",
       "      <td>0.0</td>\n",
       "      <td>0.412122</td>\n",
       "      <td>0.000000</td>\n",
       "      <td>...</td>\n",
       "      <td>0.493433</td>\n",
       "      <td>0.0</td>\n",
       "      <td>0.0</td>\n",
       "      <td>0.0</td>\n",
       "      <td>0.000000</td>\n",
       "      <td>0.0</td>\n",
       "      <td>0.0</td>\n",
       "      <td>0.0</td>\n",
       "      <td>0.0</td>\n",
       "      <td>0.000000</td>\n",
       "    </tr>\n",
       "    <tr>\n",
       "      <th>...</th>\n",
       "      <td>...</td>\n",
       "      <td>...</td>\n",
       "      <td>...</td>\n",
       "      <td>...</td>\n",
       "      <td>...</td>\n",
       "      <td>...</td>\n",
       "      <td>...</td>\n",
       "      <td>...</td>\n",
       "      <td>...</td>\n",
       "      <td>...</td>\n",
       "      <td>...</td>\n",
       "      <td>...</td>\n",
       "      <td>...</td>\n",
       "      <td>...</td>\n",
       "      <td>...</td>\n",
       "      <td>...</td>\n",
       "      <td>...</td>\n",
       "      <td>...</td>\n",
       "      <td>...</td>\n",
       "      <td>...</td>\n",
       "      <td>...</td>\n",
       "    </tr>\n",
       "    <tr>\n",
       "      <th>92596</th>\n",
       "      <td>0.000000</td>\n",
       "      <td>0.000000</td>\n",
       "      <td>0.0</td>\n",
       "      <td>0.0</td>\n",
       "      <td>0.0</td>\n",
       "      <td>0.000000</td>\n",
       "      <td>0.000000</td>\n",
       "      <td>0.0</td>\n",
       "      <td>0.000000</td>\n",
       "      <td>1.000000</td>\n",
       "      <td>...</td>\n",
       "      <td>0.000000</td>\n",
       "      <td>0.0</td>\n",
       "      <td>0.0</td>\n",
       "      <td>0.0</td>\n",
       "      <td>0.000000</td>\n",
       "      <td>0.0</td>\n",
       "      <td>0.0</td>\n",
       "      <td>0.0</td>\n",
       "      <td>0.0</td>\n",
       "      <td>0.000000</td>\n",
       "    </tr>\n",
       "    <tr>\n",
       "      <th>92597</th>\n",
       "      <td>0.000000</td>\n",
       "      <td>0.000000</td>\n",
       "      <td>0.0</td>\n",
       "      <td>0.0</td>\n",
       "      <td>0.0</td>\n",
       "      <td>0.000000</td>\n",
       "      <td>0.000000</td>\n",
       "      <td>0.0</td>\n",
       "      <td>0.000000</td>\n",
       "      <td>0.000000</td>\n",
       "      <td>...</td>\n",
       "      <td>0.000000</td>\n",
       "      <td>0.0</td>\n",
       "      <td>0.0</td>\n",
       "      <td>0.0</td>\n",
       "      <td>0.000000</td>\n",
       "      <td>0.0</td>\n",
       "      <td>0.0</td>\n",
       "      <td>0.0</td>\n",
       "      <td>0.0</td>\n",
       "      <td>0.000000</td>\n",
       "    </tr>\n",
       "    <tr>\n",
       "      <th>92598</th>\n",
       "      <td>0.000000</td>\n",
       "      <td>0.000000</td>\n",
       "      <td>0.0</td>\n",
       "      <td>0.0</td>\n",
       "      <td>0.0</td>\n",
       "      <td>0.000000</td>\n",
       "      <td>0.000000</td>\n",
       "      <td>0.0</td>\n",
       "      <td>0.000000</td>\n",
       "      <td>0.000000</td>\n",
       "      <td>...</td>\n",
       "      <td>0.000000</td>\n",
       "      <td>0.0</td>\n",
       "      <td>0.0</td>\n",
       "      <td>0.0</td>\n",
       "      <td>0.000000</td>\n",
       "      <td>0.0</td>\n",
       "      <td>0.0</td>\n",
       "      <td>0.0</td>\n",
       "      <td>0.0</td>\n",
       "      <td>0.000000</td>\n",
       "    </tr>\n",
       "    <tr>\n",
       "      <th>92599</th>\n",
       "      <td>0.000000</td>\n",
       "      <td>0.000000</td>\n",
       "      <td>0.0</td>\n",
       "      <td>0.0</td>\n",
       "      <td>0.0</td>\n",
       "      <td>0.000000</td>\n",
       "      <td>0.000000</td>\n",
       "      <td>0.0</td>\n",
       "      <td>0.000000</td>\n",
       "      <td>0.000000</td>\n",
       "      <td>...</td>\n",
       "      <td>0.000000</td>\n",
       "      <td>0.0</td>\n",
       "      <td>0.0</td>\n",
       "      <td>0.0</td>\n",
       "      <td>0.000000</td>\n",
       "      <td>0.0</td>\n",
       "      <td>0.0</td>\n",
       "      <td>0.0</td>\n",
       "      <td>0.0</td>\n",
       "      <td>0.000000</td>\n",
       "    </tr>\n",
       "    <tr>\n",
       "      <th>92600</th>\n",
       "      <td>0.000000</td>\n",
       "      <td>0.000000</td>\n",
       "      <td>0.0</td>\n",
       "      <td>0.0</td>\n",
       "      <td>0.0</td>\n",
       "      <td>0.000000</td>\n",
       "      <td>0.000000</td>\n",
       "      <td>0.0</td>\n",
       "      <td>0.000000</td>\n",
       "      <td>0.000000</td>\n",
       "      <td>...</td>\n",
       "      <td>0.000000</td>\n",
       "      <td>0.0</td>\n",
       "      <td>0.0</td>\n",
       "      <td>0.0</td>\n",
       "      <td>0.000000</td>\n",
       "      <td>0.0</td>\n",
       "      <td>0.0</td>\n",
       "      <td>0.0</td>\n",
       "      <td>0.0</td>\n",
       "      <td>0.000000</td>\n",
       "    </tr>\n",
       "  </tbody>\n",
       "</table>\n",
       "<p>92601 rows × 200 columns</p>\n",
       "</div>"
      ],
      "text/plain": [
       "          admin       aja  akun  alfamart  aneh       apk  aplikasi  \\\n",
       "0      0.000000  0.000000   0.0       0.0   0.0  0.000000  0.000000   \n",
       "1      0.139477  0.188586   0.0       0.0   0.0  0.708790  0.000000   \n",
       "2      0.000000  0.000000   0.0       0.0   0.0  0.000000  0.530947   \n",
       "3      0.000000  0.000000   0.0       0.0   0.0  0.463699  0.161038   \n",
       "4      0.000000  0.241181   0.0       0.0   0.0  0.000000  0.000000   \n",
       "...         ...       ...   ...       ...   ...       ...       ...   \n",
       "92596  0.000000  0.000000   0.0       0.0   0.0  0.000000  0.000000   \n",
       "92597  0.000000  0.000000   0.0       0.0   0.0  0.000000  0.000000   \n",
       "92598  0.000000  0.000000   0.0       0.0   0.0  0.000000  0.000000   \n",
       "92599  0.000000  0.000000   0.0       0.0   0.0  0.000000  0.000000   \n",
       "92600  0.000000  0.000000   0.0       0.0   0.0  0.000000  0.000000   \n",
       "\n",
       "       aplikasinya       app     bagus  ...      udah  udh  ulang  uninstall  \\\n",
       "0              0.0  0.000000  0.000000  ...  0.000000  0.0    0.0        0.0   \n",
       "1              0.0  0.000000  0.000000  ...  0.000000  0.0    0.0        0.0   \n",
       "2              0.0  0.000000  0.272698  ...  0.000000  0.0    0.0        0.0   \n",
       "3              0.0  0.000000  0.000000  ...  0.000000  0.0    0.0        0.0   \n",
       "4              0.0  0.412122  0.000000  ...  0.493433  0.0    0.0        0.0   \n",
       "...            ...       ...       ...  ...       ...  ...    ...        ...   \n",
       "92596          0.0  0.000000  1.000000  ...  0.000000  0.0    0.0        0.0   \n",
       "92597          0.0  0.000000  0.000000  ...  0.000000  0.0    0.0        0.0   \n",
       "92598          0.0  0.000000  0.000000  ...  0.000000  0.0    0.0        0.0   \n",
       "92599          0.0  0.000000  0.000000  ...  0.000000  0.0    0.0        0.0   \n",
       "92600          0.0  0.000000  0.000000  ...  0.000000  0.0    0.0        0.0   \n",
       "\n",
       "         update  upgrade  utk  verifikasi  via        yg  \n",
       "0      0.408869      0.0  0.0         0.0  0.0  0.000000  \n",
       "1      0.000000      0.0  0.0         0.0  0.0  0.198053  \n",
       "2      0.000000      0.0  0.0         0.0  0.0  0.000000  \n",
       "3      0.000000      0.0  0.0         0.0  0.0  0.194353  \n",
       "4      0.000000      0.0  0.0         0.0  0.0  0.000000  \n",
       "...         ...      ...  ...         ...  ...       ...  \n",
       "92596  0.000000      0.0  0.0         0.0  0.0  0.000000  \n",
       "92597  0.000000      0.0  0.0         0.0  0.0  0.000000  \n",
       "92598  0.000000      0.0  0.0         0.0  0.0  0.000000  \n",
       "92599  0.000000      0.0  0.0         0.0  0.0  0.000000  \n",
       "92600  0.000000      0.0  0.0         0.0  0.0  0.000000  \n",
       "\n",
       "[92601 rows x 200 columns]"
      ]
     },
     "execution_count": 30,
     "metadata": {},
     "output_type": "execute_result"
    }
   ],
   "source": [
    "ekstraksi_df"
   ]
  },
  {
   "cell_type": "code",
   "execution_count": 31,
   "id": "158933e3-10d5-493f-a3e3-577ce01d657f",
   "metadata": {},
   "outputs": [],
   "source": [
    "X_train, X_test, y_train, y_test = train_test_split(X_tfidf, y, test_size=0.2, random_state=42)"
   ]
  },
  {
   "cell_type": "code",
   "execution_count": 32,
   "id": "2ac72d00-bbdd-4e6f-bf2a-c21698ff6521",
   "metadata": {},
   "outputs": [
    {
     "name": "stdout",
     "output_type": "stream",
     "text": [
      "Logistic Regression - accuracy_train: 0.8627969762419007\n",
      "Logistic Regression - accuracy_test: 0.8633443118622105\n"
     ]
    }
   ],
   "source": [
    "logistic_regression = LogisticRegression()\n",
    "\n",
    "logistic_regression.fit(X_train.toarray(), y_train)\n",
    "\n",
    "y_pred_train = logistic_regression.predict(X_train.toarray())\n",
    "y_pred_test = logistic_regression.predict(X_test.toarray())\n",
    "\n",
    "accuracy_train = accuracy_score(y_pred_train, y_train)\n",
    "accuracy_test = accuracy_score(y_pred_test, y_test)\n",
    "\n",
    "print('Logistic Regression - accuracy_train:', accuracy_train)\n",
    "print('Logistic Regression - accuracy_test:', accuracy_test)"
   ]
  },
  {
   "cell_type": "code",
   "execution_count": 33,
   "id": "1910f653-d5b4-4faa-8a1e-671b721cd057",
   "metadata": {},
   "outputs": [
    {
     "name": "stdout",
     "output_type": "stream",
     "text": [
      "Skor Cross-Validation: [0.86156857 0.86561825 0.86339093 0.86339093 0.8549541 ]\n",
      "Rata-rata Akurasi Cross-Validation: 0.8617845572354211\n"
     ]
    }
   ],
   "source": [
    "model = logistic_regression\n",
    "\n",
    "scores = cross_val_score(model, X_train, y_train, cv=5)\n",
    "print(f'Skor Cross-Validation: {scores}')\n",
    "print(f'Rata-rata Akurasi Cross-Validation: {scores.mean()}')"
   ]
  },
  {
   "cell_type": "code",
   "execution_count": 34,
   "id": "3b1e51e9-2200-49e8-bf9c-08d434d3bc84",
   "metadata": {},
   "outputs": [
    {
     "name": "stdout",
     "output_type": "stream",
     "text": [
      "Confusion Matrix:\n",
      "[[8671 1486]\n",
      " [1045 7319]]\n"
     ]
    }
   ],
   "source": [
    "cm = confusion_matrix(y_test, y_pred_test)\n",
    "print(\"Confusion Matrix:\")\n",
    "print(cm)"
   ]
  },
  {
   "cell_type": "code",
   "execution_count": 35,
   "id": "26dfc0e7-2c0a-4aa7-a150-03690f8784bd",
   "metadata": {},
   "outputs": [
    {
     "data": {
      "image/png": "[encoded data removed]",
      "text/plain": [
       "<Figure size 800x600 with 1 Axes>"
      ]
     },
     "metadata": {},
     "output_type": "display_data"
    }
   ],
   "source": [
    "sentiment_counts = data['polarity'].value_counts()\n",
    "plt.figure(figsize=(8, 6))\n",
    "plt.pie(sentiment_counts, labels=sentiment_counts.index, autopct='%1.1f%%', startangle=140, colors=['#ff9999', '#66b3ff', '#99ff99'])\n",
    "plt.title('Distribusi Sentimen Ulasan')\n",
    "plt.axis('equal')\n",
    "plt.show()"
   ]
  },
  {
   "cell_type": "code",
   "execution_count": 36,
   "id": "2e8d6d57-4d70-49b1-951e-36b1df7deb41",
   "metadata": {},
   "outputs": [
    {
     "name": "stdout",
     "output_type": "stream",
     "text": [
      "              precision    recall  f1-score   support\n",
      "\n",
      "    negative       0.89      0.85      0.87     10157\n",
      "    positive       0.83      0.88      0.85      8364\n",
      "\n",
      "    accuracy                           0.86     18521\n",
      "   macro avg       0.86      0.86      0.86     18521\n",
      "weighted avg       0.86      0.86      0.86     18521\n",
      "\n"
     ]
    }
   ],
   "source": [
    "# classification report\n",
    "print(classification_report(y_test, y_pred_test))"
   ]
  }
 ],
 "metadata": {
  "kernelspec": {
   "display_name": "myenv",
   "language": "python",
   "name": "python3"
  },
  "language_info": {
   "codemirror_mode": {
    "name": "ipython",
    "version": 3
   },
   "file_extension": ".py",
   "mimetype": "text/x-python",
   "name": "python",
   "nbconvert_exporter": "python",
   "pygments_lexer": "ipython3",
   "version": "3.10.5"
  }
 },
 "nbformat": 4,
 "nbformat_minor": 5
}
