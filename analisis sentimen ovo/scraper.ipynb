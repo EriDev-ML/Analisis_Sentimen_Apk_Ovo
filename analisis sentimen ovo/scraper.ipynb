{
 "cells": [
  {
   "cell_type": "code",
   "execution_count": 1,
   "id": "126f5c16-5995-4ed9-8052-f947cbe1c4ff",
   "metadata": {},
   "outputs": [],
   "source": [
    "import pandas as pd\n",
    "import nltk\n",
    "import csv\n",
    "import numpy as np\n",
    "from google_play_scraper import app, reviews, Sort, reviews_all"
   ]
  },
  {
   "cell_type": "code",
   "execution_count": 2,
   "id": "a96d43dd-c820-4828-83d6-aca0a0890802",
   "metadata": {},
   "outputs": [
    {
     "name": "stderr",
     "output_type": "stream",
     "text": [
      "[nltk_data] Downloading package punkt_tab to\n",
      "[nltk_data]     C:\\Users\\USER\\AppData\\Roaming\\nltk_data...\n",
      "[nltk_data]   Package punkt_tab is already up-to-date!\n",
      "[nltk_data] Downloading package stopwords to\n",
      "[nltk_data]     C:\\Users\\USER\\AppData\\Roaming\\nltk_data...\n",
      "[nltk_data]   Package stopwords is already up-to-date!\n"
     ]
    },
    {
     "data": {
      "text/plain": [
       "True"
      ]
     },
     "execution_count": 2,
     "metadata": {},
     "output_type": "execute_result"
    }
   ],
   "source": [
    "pd.options.mode.chained_assignment = None\n",
    "seed = 0\n",
    "np.random.seed(seed)\n",
    "nltk.download('punkt_tab')\n",
    "nltk.download('stopwords')"
   ]
  },
  {
   "cell_type": "code",
   "execution_count": 3,
   "id": "b0f7b1a5-8c3f-4593-95c8-1e07adeabc01",
   "metadata": {},
   "outputs": [],
   "source": [
    "scrapreview = reviews_all(\n",
    "    'ovo.id',\n",
    "    lang='id',\n",
    "    country='id',\n",
    "    sort=Sort.MOST_RELEVANT,\n",
    ")"
   ]
  },
  {
   "cell_type": "code",
   "execution_count": 4,
   "id": "a7a13e78-7285-437b-b208-5092d40bd834",
   "metadata": {},
   "outputs": [],
   "source": [
    "with open('ulasan_aplikasi.csv', mode='w', newline='', encoding='utf-8') as file:\n",
    "    writer = csv.writer(file)\n",
    "    writer.writerow(['Review'])\n",
    "    for review in scrapreview:\n",
    "        writer.writerow([review])"
   ]
  },
  {
   "cell_type": "code",
   "execution_count": 5,
   "id": "269b1f44-d88d-4594-8fb1-9b3e5c225798",
   "metadata": {},
   "outputs": [],
   "source": [
    "ulasan_df = pd.DataFrame(scrapreview)"
   ]
  },
  {
   "cell_type": "code",
   "execution_count": 6,
   "id": "453fbb1e-ef72-4fd6-8804-b8a0dfefe57a",
   "metadata": {},
   "outputs": [],
   "source": [
    "jumlah_ulasan, jumlah_kolom = ulasan_df.shape"
   ]
  },
  {
   "cell_type": "code",
   "execution_count": 7,
   "id": "d00bf6b2-24aa-49f2-910a-05d4a67851be",
   "metadata": {},
   "outputs": [
    {
     "data": {
      "text/html": [
       "<div>\n",
       "<style scoped>\n",
       "    .dataframe tbody tr th:only-of-type {\n",
       "        vertical-align: middle;\n",
       "    }\n",
       "\n",
       "    .dataframe tbody tr th {\n",
       "        vertical-align: top;\n",
       "    }\n",
       "\n",
       "    .dataframe thead th {\n",
       "        text-align: right;\n",
       "    }\n",
       "</style>\n",
       "<table border=\"1\" class=\"dataframe\">\n",
       "  <thead>\n",
       "    <tr style=\"text-align: right;\">\n",
       "      <th></th>\n",
       "      <th>reviewId</th>\n",
       "      <th>userName</th>\n",
       "      <th>userImage</th>\n",
       "      <th>content</th>\n",
       "      <th>score</th>\n",
       "      <th>thumbsUpCount</th>\n",
       "      <th>reviewCreatedVersion</th>\n",
       "      <th>at</th>\n",
       "      <th>replyContent</th>\n",
       "      <th>repliedAt</th>\n",
       "      <th>appVersion</th>\n",
       "    </tr>\n",
       "  </thead>\n",
       "  <tbody>\n",
       "    <tr>\n",
       "      <th>0</th>\n",
       "      <td>e368ea8c-bf99-4c1f-939e-558de91c020d</td>\n",
       "      <td>Pengguna Google</td>\n",
       "      <td>https://play-lh.googleusercontent.com/EGemoI2N...</td>\n",
       "      <td>Apa si?, mau tf ke bank aja gk bisa, slalu ter...</td>\n",
       "      <td>1</td>\n",
       "      <td>4</td>\n",
       "      <td>3.126.0</td>\n",
       "      <td>2025-02-04 08:40:42</td>\n",
       "      <td>None</td>\n",
       "      <td>NaT</td>\n",
       "      <td>3.126.0</td>\n",
       "    </tr>\n",
       "    <tr>\n",
       "      <th>1</th>\n",
       "      <td>21b6b6a3-46c2-4d05-92c0-26e416bf3698</td>\n",
       "      <td>Pengguna Google</td>\n",
       "      <td>https://play-lh.googleusercontent.com/EGemoI2N...</td>\n",
       "      <td>Aplikasi nggak jelas, udah transfer bukti tran...</td>\n",
       "      <td>1</td>\n",
       "      <td>1</td>\n",
       "      <td>3.126.0</td>\n",
       "      <td>2025-02-04 19:44:49</td>\n",
       "      <td>None</td>\n",
       "      <td>NaT</td>\n",
       "      <td>3.126.0</td>\n",
       "    </tr>\n",
       "    <tr>\n",
       "      <th>2</th>\n",
       "      <td>f74aaa25-a19b-46af-b72e-d76396ddbd70</td>\n",
       "      <td>Pengguna Google</td>\n",
       "      <td>https://play-lh.googleusercontent.com/EGemoI2N...</td>\n",
       "      <td>Top up E-money 50ribu dengan nomer kartu gilir...</td>\n",
       "      <td>1</td>\n",
       "      <td>54</td>\n",
       "      <td>3.126.0</td>\n",
       "      <td>2025-02-01 15:38:40</td>\n",
       "      <td>None</td>\n",
       "      <td>NaT</td>\n",
       "      <td>3.126.0</td>\n",
       "    </tr>\n",
       "    <tr>\n",
       "      <th>3</th>\n",
       "      <td>6304b5bb-bc8b-41ee-b47a-5a2d63cf8292</td>\n",
       "      <td>Pengguna Google</td>\n",
       "      <td>https://play-lh.googleusercontent.com/EGemoI2N...</td>\n",
       "      <td>Sangat mengecewakan, pengiriman lambat, potong...</td>\n",
       "      <td>1</td>\n",
       "      <td>459</td>\n",
       "      <td>3.123.0</td>\n",
       "      <td>2024-12-16 00:20:17</td>\n",
       "      <td>None</td>\n",
       "      <td>NaT</td>\n",
       "      <td>3.123.0</td>\n",
       "    </tr>\n",
       "    <tr>\n",
       "      <th>4</th>\n",
       "      <td>ff5e412d-53e8-465c-b607-d92c20250c8b</td>\n",
       "      <td>Pengguna Google</td>\n",
       "      <td>https://play-lh.googleusercontent.com/EGemoI2N...</td>\n",
       "      <td>Aplikasi paling gak jelas, biaya segala macemn...</td>\n",
       "      <td>1</td>\n",
       "      <td>92</td>\n",
       "      <td>3.124.0</td>\n",
       "      <td>2025-01-15 09:10:09</td>\n",
       "      <td>None</td>\n",
       "      <td>NaT</td>\n",
       "      <td>3.124.0</td>\n",
       "    </tr>\n",
       "  </tbody>\n",
       "</table>\n",
       "</div>"
      ],
      "text/plain": [
       "                               reviewId         userName  \\\n",
       "0  e368ea8c-bf99-4c1f-939e-558de91c020d  Pengguna Google   \n",
       "1  21b6b6a3-46c2-4d05-92c0-26e416bf3698  Pengguna Google   \n",
       "2  f74aaa25-a19b-46af-b72e-d76396ddbd70  Pengguna Google   \n",
       "3  6304b5bb-bc8b-41ee-b47a-5a2d63cf8292  Pengguna Google   \n",
       "4  ff5e412d-53e8-465c-b607-d92c20250c8b  Pengguna Google   \n",
       "\n",
       "                                           userImage  \\\n",
       "0  https://play-lh.googleusercontent.com/EGemoI2N...   \n",
       "1  https://play-lh.googleusercontent.com/EGemoI2N...   \n",
       "2  https://play-lh.googleusercontent.com/EGemoI2N...   \n",
       "3  https://play-lh.googleusercontent.com/EGemoI2N...   \n",
       "4  https://play-lh.googleusercontent.com/EGemoI2N...   \n",
       "\n",
       "                                             content  score  thumbsUpCount  \\\n",
       "0  Apa si?, mau tf ke bank aja gk bisa, slalu ter...      1              4   \n",
       "1  Aplikasi nggak jelas, udah transfer bukti tran...      1              1   \n",
       "2  Top up E-money 50ribu dengan nomer kartu gilir...      1             54   \n",
       "3  Sangat mengecewakan, pengiriman lambat, potong...      1            459   \n",
       "4  Aplikasi paling gak jelas, biaya segala macemn...      1             92   \n",
       "\n",
       "  reviewCreatedVersion                  at replyContent repliedAt appVersion  \n",
       "0              3.126.0 2025-02-04 08:40:42         None       NaT    3.126.0  \n",
       "1              3.126.0 2025-02-04 19:44:49         None       NaT    3.126.0  \n",
       "2              3.126.0 2025-02-01 15:38:40         None       NaT    3.126.0  \n",
       "3              3.123.0 2024-12-16 00:20:17         None       NaT    3.123.0  \n",
       "4              3.124.0 2025-01-15 09:10:09         None       NaT    3.124.0  "
      ]
     },
     "execution_count": 7,
     "metadata": {},
     "output_type": "execute_result"
    }
   ],
   "source": [
    "ulasan_df.head()"
   ]
  },
  {
   "cell_type": "code",
   "execution_count": 8,
   "id": "494c5e74-3895-4f97-9e87-683b0ee989e7",
   "metadata": {},
   "outputs": [
    {
     "data": {
      "text/plain": [
       "(202500, 11)"
      ]
     },
     "execution_count": 8,
     "metadata": {},
     "output_type": "execute_result"
    }
   ],
   "source": [
    "ulasan_df.shape"
   ]
  },
  {
   "cell_type": "code",
   "execution_count": 9,
   "id": "2bed01e0-1072-42c9-8f44-47c88237f0cb",
   "metadata": {},
   "outputs": [],
   "source": [
    "ulasan_df.to_csv('ulasan_aplikasi.csv', index=False)"
   ]
  },
  {
   "cell_type": "code",
   "execution_count": 10,
   "id": "293e88d5-b0f1-418e-a20b-f92c3ee3feef",
   "metadata": {},
   "outputs": [
    {
     "name": "stdout",
     "output_type": "stream",
     "text": [
      "<class 'pandas.core.frame.DataFrame'>\n",
      "RangeIndex: 202500 entries, 0 to 202499\n",
      "Data columns (total 11 columns):\n",
      " #   Column                Non-Null Count   Dtype         \n",
      "---  ------                --------------   -----         \n",
      " 0   reviewId              202500 non-null  object        \n",
      " 1   userName              202500 non-null  object        \n",
      " 2   userImage             202500 non-null  object        \n",
      " 3   content               202499 non-null  object        \n",
      " 4   score                 202500 non-null  int64         \n",
      " 5   thumbsUpCount         202500 non-null  int64         \n",
      " 6   reviewCreatedVersion  157325 non-null  object        \n",
      " 7   at                    202500 non-null  datetime64[ns]\n",
      " 8   replyContent          120740 non-null  object        \n",
      " 9   repliedAt             120740 non-null  datetime64[ns]\n",
      " 10  appVersion            157325 non-null  object        \n",
      "dtypes: datetime64[ns](2), int64(2), object(7)\n",
      "memory usage: 17.0+ MB\n"
     ]
    }
   ],
   "source": [
    "ulasan_df.info()"
   ]
  }
 ],
 "metadata": {
  "kernelspec": {
   "display_name": "myenv",
   "language": "python",
   "name": "python3"
  },
  "language_info": {
   "codemirror_mode": {
    "name": "ipython",
    "version": 3
   },
   "file_extension": ".py",
   "mimetype": "text/x-python",
   "name": "python",
   "nbconvert_exporter": "python",
   "pygments_lexer": "ipython3",
   "version": "3.10.5"
  }
 },
 "nbformat": 4,
 "nbformat_minor": 5
}
